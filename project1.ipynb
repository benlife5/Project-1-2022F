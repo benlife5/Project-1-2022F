{
 "cells": [
  {
   "cell_type": "markdown",
   "id": "comparable-extent",
   "metadata": {
    "pycharm": {
     "name": "#%% md\n"
    }
   },
   "source": [
    "# Project 1: Assembling Genes"
   ]
  },
  {
   "cell_type": "markdown",
   "id": "regular-globe",
   "metadata": {
    "pycharm": {
     "name": "#%% md\n"
    }
   },
   "source": [
    "   <div class=\"alert alert-block alert-danger\">\n",
    "    <center>Due: <b>Monday, September 5, 8:59pm</b>.</center> \n",
    "   </div>\n",
    "   \n",
    "   <div class=\"alert alert-block alert-warning\">\n",
    "   <center>\n",
    "       <b>Collaboration and Resource Policy</b>\n",
    "    </center>\n",
    "    \n",
    "For this assignment, you are encouraged to work with one other person satisfying the constraints from Class 2. \n",
    "You are permitted (actually _encouraged_) to discuss these problems with anyone you want, including other students in the class. If you do discuss the specific questions in the assignment with anyone other than your assignment partner and the course staff, though, you should list them in the _External resources used_ section below.\n",
    "    \n",
    "You are welcome to use any resources you want for this assignment, other than ones that would defeat the purpose of the assignment. This means you should not look at answers or code from previous semesters of this course, or from any other students in the class (other than your collaboration with your partner), and if you find code that implements the problem you are being asked to do for the assignment, you should not use that code. You should document all external resource you use that are not part of the course materials in the _External resources used_ section below.\n",
    "    </div>"
   ]
  },
  {
   "cell_type": "markdown",
   "id": "tropical-result",
   "metadata": {
    "pycharm": {
     "name": "#%% md\n"
    }
   },
   "source": [
    "**Team submitting this assignment:**  \n",
    "<div class=\"alert alert-success\">\n",
    "    <b><em>list each member of your team here, including both your name and UVA computing id</em></b>\n",
    "\n",
    "Team Members (Names): Joey Elsisi, Ben Life\n",
    "\n",
    "Team Member UVA Computing IDs:jre3wjh, bdl9ufe\n",
    "\n",
    "</div>\n",
    "\n",
    "**External resources used:** \n",
    "<div class=\"alert alert-success\">\n",
    "<em>It is not necessary to list the course materials, but if you used any other resources, including discussing problems with students not on your team, list them here.</em>\n",
    "    \n",
    "External Resources Used:\n",
    "\n",
    "</div>"
   ]
  },
  {
   "cell_type": "markdown",
   "id": "unsigned-bookmark",
   "metadata": {
    "pycharm": {
     "name": "#%% md\n"
    }
   },
   "source": [
    "In this project, we will explore genome assembly—the process of determining the order of nucleotides in DNA from fragmented reads. As you might have studied in the reading assignments, genome assembly can get quite complicated, as problems such as full sequence coverage, finding a good length for reads (the $k$ in $k$-mer), and sequencing errors present challenges for sequencing analysis and accuracy. You can assume perfect coverage for all parts of the assignment and no read errors for the first two questions.\n",
    "\n",
    "\n",
    "<b>Submission</b>: Please submit the code you wrote to generate your answers for all parts using this form: <a href=\"https://forms.gle/rNTXfYojTLEQ8idg6\"><em>https://forms.gle/rNTXfYojTLEQ8idg6</em></a>. Your answers should be in the Jupyter Notebook, along with your code. Before submission, you should make a copy of your notebook file with the name <i>uvaid1\\_uvaid2.ipynb</i> (where <i>uvaidn</i> is each teammates UVA id) so the submitted file identifies you. You and your partner should submit a single file once together. Submission is due 8:59 pm (EST) on Monday, September 5."
   ]
  },
  {
   "cell_type": "markdown",
   "id": "southwest-aaron",
   "metadata": {
    "pycharm": {
     "name": "#%% md\n"
    }
   },
   "source": [
    "## Install basic required packages."
   ]
  },
  {
   "cell_type": "markdown",
   "id": "purple-thesaurus",
   "metadata": {
    "pycharm": {
     "name": "#%% md\n"
    }
   },
   "source": [
    "- Install basic required packages, should be run only once. You may need to restart the kernel after this stage.\n",
    "- Make sure you have [graphviz](https://graphviz.org/download/) installed on your system.\n",
    "- The second cell adds Graphviz to your path, you may have to change based on where the install folder is.\n",
    "\n",
    "<b>NOTE: We provide utils.py, which may contain helpful functions for you to use, as well as gvmagic.py, which is a deprecated package to use graphviz within the notebook</b>"
   ]
  },
  {
   "cell_type": "code",
   "execution_count": 2,
   "id": "great-french",
   "metadata": {
    "pycharm": {
     "name": "#%%\n"
    }
   },
   "outputs": [],
   "source": [
    "import os\n",
    "os.environ[\"PATH\"] += os.pathsep + 'C:/Program Files/Graphviz/bin'"
   ]
  },
  {
   "cell_type": "markdown",
   "id": "intelligent-realtor",
   "metadata": {
    "pycharm": {
     "name": "#%% md\n"
    }
   },
   "source": [
    "## Genome Assembly\n",
    "\n",
    "For this part, you're given reads generated while trying to sequence the DNA of a TeleTubby (some unknown organism) with a \\textit{very} small genetic code. By answering the following questions, you will learn how to assemble the original genome sequence from sequence reads.\n",
    "\n",
    "Sequencing data is often stored in FASTQ file format. In TeleTubby.fastq, you will find the data organized in a particular order that repeats every four lines. The first line contains the metadata that encodes the name of the read, the experiment type, the kind of sequencing machine used, etc. The second line is the sequence of bases. The third line functions as a placeholder line. The fourth line is a sequence of base qualities that encode the qualities for the corresponding bases in the sequence line. We will only work with the sequence and quality score lines in this question."
   ]
  },
  {
   "cell_type": "code",
   "execution_count": 3,
   "id": "accessible-persian",
   "metadata": {
    "pycharm": {
     "name": "#%%\n"
    }
   },
   "outputs": [],
   "source": [
    "import collections\n",
    "import matplotlib.pyplot as plt\n",
    "import numpy as np\n",
    "import utils\n",
    "from tqdm import tqdm"
   ]
  },
  {
   "cell_type": "markdown",
   "id": "worthy-vietnam",
   "metadata": {
    "pycharm": {
     "name": "#%% md\n"
    }
   },
   "source": [
    "#### Question 1.1.1 GC-content\n",
    "\n",
    "The GC-content (or the ratio of G and C nucleotides) is related to the melting temperature of the DNA double helix. Use the following equation to calculate the melting temperature of DNA for TeleTubby $t_m$ in Celsius:\n",
    "\n",
    "\\begin{equation*}\n",
    "t_m = 64.9+0.41(\\%GC)-\\frac{500}{\\text{length of sequence}}\n",
    "\\end{equation*}\n",
    "\n",
    "As a reference, the human genome is known to have between 35%-60% GC-content. "
   ]
  },
  {
   "cell_type": "code",
   "execution_count": 4,
   "id": "prescription-cartridge",
   "metadata": {
    "pycharm": {
     "name": "#%%\n"
    }
   },
   "outputs": [
    {
     "name": "stdout",
     "output_type": "stream",
     "text": [
      "64.88329351535837\n"
     ]
    }
   ],
   "source": [
    "# Read sequence reads (error-free) from file\n",
    "sequence_reads, qualities = utils.read_fastq('TeleTubby.fastq')\n",
    "\n",
    "# Calculate %GC content\n",
    "\n",
    "counts = {\"A\": 0, \"C\": 0, \"G\": 0, \"T\":0}\n",
    "\n",
    "total_length = 0\n",
    "\n",
    "for seq in sequence_reads:\n",
    "    total_length = total_length + 8\n",
    "    dic = collections.Counter(seq)\n",
    "    for key in dic:\n",
    "        counts[key] = counts[key] + dic[key]\n",
    "        \n",
    "#print(counts)\n",
    "\n",
    "gc_ratio = (counts[\"G\"] + counts[\"C\"]) / (counts[\"G\"] + counts[\"C\"] + counts[\"A\"] + counts[\"T\"])\n",
    "#print(gc_ratio)\n",
    "\n",
    "#print(total_length)\n",
    "t_m = 64.9 + 0.41 * gc_ratio - (500 / total_length )\n",
    "print(t_m)\n",
    "\n",
    "# Print out temperature in Celsius"
   ]
  },
  {
   "cell_type": "markdown",
   "id": "refined-doctrine",
   "metadata": {
    "pycharm": {
     "name": "#%% md\n"
    }
   },
   "source": [
    "#### Question 1.1.2 Interpreting quality scores"
   ]
  },
  {
   "cell_type": "markdown",
   "id": "circular-pottery",
   "metadata": {
    "pycharm": {
     "name": "#%% md\n"
    }
   },
   "source": [
    "Phred33 quality scores are represented as the character with an ASCII code equal to its value + 33 (to make them easy to print alongside genome sequences). List the top 5 most frequent scores in ASCII symbol as well as their Phredd33 scores in TeleTubby.fastq. You can refer to the [official Illumina website](https://support.illumina.com/help/BaseSpace_OLH_009008/Content/Source/Informatics/BS/QualityScoreEncoding_swBS.htm) to reference the scoring encoding.\n",
    "\n",
    "What is the average Phred33 score in TeleTubby.fastq?"
   ]
  },
  {
   "cell_type": "code",
   "execution_count": 37,
   "id": "female-stand",
   "metadata": {
    "pycharm": {
     "name": "#%%\n"
    }
   },
   "outputs": [
    {
     "name": "stdout",
     "output_type": "stream",
     "text": [
      "Average value: 34.476535836177476\n",
      "Top 5:\n",
      "5 - 20\n",
      "? - 30\n",
      "D - 35\n",
      "K - 42\n",
      "F - 37\n"
     ]
    }
   ],
   "source": [
    "# Calculate and print average Phred33 score\n",
    "\n",
    "sequence_reads, qualities = utils.read_fastq('TeleTubby.fastq')\n",
    "\n",
    "all_qualities = \"\"\n",
    "for qual in qualities:\n",
    "    all_qualities = all_qualities + qual\n",
    "# print(len(all_qualities))\n",
    "\n",
    "\n",
    "counts = collections.Counter(all_qualities)\n",
    "# print(counts)\n",
    "numerator = 0\n",
    "denominator = 0\n",
    "for key, value in counts.items():\n",
    "    numerator = numerator + (ord(key) - 33) * value\n",
    "    denominator = denominator + value\n",
    "print(\"Average value:\", numerator / denominator)\n",
    "\n",
    "top_5 = counts.most_common(5)\n",
    "\n",
    "print(\"Top 5:\")\n",
    "for value in top_5:\n",
    "    print(value[0] + \" - \" + str(ord(value[0]) - 33))\n",
    "\n"
   ]
  },
  {
   "cell_type": "markdown",
   "id": "important-membrane",
   "metadata": {
    "pycharm": {
     "name": "#%% md\n"
    }
   },
   "source": [
    "#### Question 1.1.3 Frequency analysis\n",
    "\n",
    "Looking at repetitions in the sequence can be helpful in estimating the \"redudancy\" in the organisms. Humand and other evolved animals have a lot of redundancy, while smaller organisms like bacteria have highly packed genomes. One heuristic to estimate this before actually performing the assembly could be looking at how often certain $k$-mers are repeated.\n",
    "\n",
    "<b>Print out the 3 most frequent k-mers with their frequencies</b>"
   ]
  },
  {
   "cell_type": "code",
   "execution_count": 42,
   "id": "therapeutic-resolution",
   "metadata": {
    "pycharm": {
     "name": "#%%\n"
    }
   },
   "outputs": [
    {
     "name": "stdout",
     "output_type": "stream",
     "text": [
      "GCTATCGC 3\n",
      "CGCTATCG 2\n",
      "TATCGCAA 2\n"
     ]
    }
   ],
   "source": [
    "# Find and print out the three most repeated k-mers and their frequencies\n",
    "\n",
    "sequence_reads, qualities = utils.read_fastq('TeleTubby.fastq')\n",
    "\n",
    "for pair in collections.Counter(sequence_reads).most_common(3):\n",
    "    print(pair[0], pair[1])"
   ]
  },
  {
   "cell_type": "markdown",
   "id": "passing-stocks",
   "metadata": {
    "pycharm": {
     "name": "#%% md\n"
    }
   },
   "source": [
    "### Question 1.2. Greedy approach"
   ]
  },
  {
   "cell_type": "markdown",
   "id": "impressive-topic",
   "metadata": {
    "pycharm": {
     "name": "#%% md\n"
    }
   },
   "source": [
    "One of the approaches to assemble the genome from the given reads is a greedy algorithm. Have a look at the greedy algorithm described on [Wikipedia](https://en.wikipedia.org/wiki/Sequence_assembly#Greedy_algorithm) and answer the following."
   ]
  },
  {
   "cell_type": "markdown",
   "id": "engaging-inclusion",
   "metadata": {
    "pycharm": {
     "name": "#%% md\n"
    }
   },
   "source": [
    "#### Question 1.2.1 What would the runtime be of this algorithm, given $n$ $k$-mer reads?"
   ]
  },
  {
   "cell_type": "markdown",
   "id": "controlled-wrong",
   "metadata": {
    "pycharm": {
     "name": "#%% md\n"
    }
   },
   "source": [
    "<i>Answer</i>: $n^{2}$. Calculating the pairwise overlap required comparing each k-mer with every other k-mer. Every other step is a lesser complexity class (either $n\\log{n}$, $n$, or constant)"
   ]
  },
  {
   "cell_type": "markdown",
   "id": "handmade-title",
   "metadata": {
    "pycharm": {
     "name": "#%% md\n"
    }
   },
   "source": [
    "#### Question 1.2.2 Would this algorithm always yield a unique solution?"
   ]
  },
  {
   "cell_type": "markdown",
   "id": "sweet-arrow",
   "metadata": {
    "pycharm": {
     "name": "#%% md\n"
    }
   },
   "source": [
    "<i>Answer</i>: No. The algorithm heavily depends on how the DNA was split up. If the same original DNA strand was split differently, there will be different amounts of overlap and the algorithm will make different decisions."
   ]
  },
  {
   "cell_type": "markdown",
   "id": "expanded-backup",
   "metadata": {
    "pycharm": {
     "name": "#%% md\n"
    }
   },
   "source": [
    "#### Question 1.2.3 Would this algorithm always yield the <i>right</i> solution?"
   ]
  },
  {
   "cell_type": "markdown",
   "id": "external-czech",
   "metadata": {
    "pycharm": {
     "name": "#%% md\n"
    }
   },
   "source": [
    "<i>Answer</i>: No. The algorithm will put together k-mers based on whichever has the most overlap at a particular step. However, if chained together another way using mulitple, there might be more overlap overall than the overlap in just one step."
   ]
  },
  {
   "cell_type": "markdown",
   "id": "personal-peninsula",
   "metadata": {
    "pycharm": {
     "name": "#%% md\n"
    }
   },
   "source": [
    "### Question 1.3 Graph-based approaches"
   ]
  },
  {
   "cell_type": "markdown",
   "id": "dimensional-rebecca",
   "metadata": {
    "pycharm": {
     "name": "#%% md\n"
    }
   },
   "source": [
    "Graphs for genome assembly can be constructed in two ways:\n",
    "\n",
    "- de Bruijn graph: Processing $k-$mers as edges, with $(k-1)-$mers as nodes, and\n",
    "- Overlap graph: Processing $k-$mers as nodes, with $(k-1)-$mers as edges.\n",
    "\n",
    "de Bruijn graphs can be processed to find Euler paths, while Overlap graphs can be processed to find Hamiltonian paths. Both of these are valid ways to reconstruct the original genome.\n",
    "\n",
    "<b>Use one of these two techniques to reconstruct the sequence, and print out your reconstructed sequence. Which method did you pick out of the two, and why? (hint: imagine what would happen when we have millions of reads). Use the k-mers provided in TeleTubby.fastq</b>.\n",
    "\n",
    "We chose the de Bruijn graph because finding Hamiltonian paths is currently an unsolved problem. We can't guarantee that it will run efficiently. \n",
    "\n",
    "We provide some skeleton code that you may use, but you may also come up with your own solution."
   ]
  },
  {
   "cell_type": "code",
   "execution_count": 51,
   "id": "round-greensboro",
   "metadata": {
    "pycharm": {
     "name": "#%%\n"
    }
   },
   "outputs": [
    {
     "name": "stdout",
     "output_type": "stream",
     "text": [
      "[('TTACAAG', 'TACAAGA'), ('TCATGCA', 'CATGCAT'), ('AGGCGCT', 'GGCGCTA'), ('CGGACTC', 'GGACTCT'), ('TTTCATG', 'TTCATGA'), ('GCGCTAT', 'CGCTATC'), ('CGACTGT', 'GACTGTC'), ('ATCGCAA', 'TCGCAAC'), ('TCGCTGC', 'CGCTGCC'), ('CGCAAAC', 'GCAAACC'), ('CAAGAAT', 'AAGAATT'), ('GTCGGAC', 'TCGGACT'), ('CCGCCCT', 'CGCCCTT'), ('CGAGAGA', 'GAGAGAT'), ('GAGGCGC', 'AGGCGCT'), ('TTGTGCT', 'TGTGCTA'), ('GGGAGTA', 'GGAGTAT'), ('GTTAGCA', 'TTAGCAG'), ('TGTCGGA', 'GTCGGAC'), ('CCCGGAG', 'CCGGAGG'), ('GCACATC', 'CACATCC'), ('AGGGGTT', 'GGGGTTT'), ('CGCTATC', 'GCTATCG'), ('TAACAAC', 'AACAACT'), ('TGGTGCC', 'GGTGCCG'), ('GTGCTAT', 'TGCTATC'), ('CGACATA', 'GACATAT'), ('TTCATGA', 'TCATGAG'), ('AGTGGGA', 'GTGGGAG'), ('TACGCCA', 'ACGCCAA'), ('TTGTTTC', 'TGTTTCT'), ('GATGCAA', 'ATGCAAT'), ('CGCAGGA', 'GCAGGAT'), ('CTAAGAG', 'TAAGAGA'), ('TAGCAAT', 'AGCAATG'), ('ATAGCAA', 'TAGCAAT'), ('GGAGTAT', 'GAGTATG'), ('CCAAACA', 'CAAACAC'), ('GCTGCCC', 'CTGCCCG'), ('AAATAGC', 'AATAGCA'), ('GCAGGAT', 'CAGGATA'), ('TATCGAC', 'ATCGACA'), ('CTTTACA', 'TTTACAA'), ('TAAGAGA', 'AAGAGAG'), ('TCTTTCA', 'CTTTCAT'), ('CAAACCG', 'AAACCGA'), ('ATGGTGC', 'TGGTGCA'), ('TGGGAGT', 'GGGAGTA'), ('TCTTTAC', 'CTTTACA'), ('TTACAGG', 'TACAGGA'), ('TGTTTCT', 'GTTTCTC'), ('GATTTGT', 'ATTTGTG'), ('ACTTATG', 'CTTATGT'), ('GTTGTTT', 'TTGTTTC'), ('TGCCCGG', 'GCCCGGA'), ('CTGCCCG', 'TGCCCGG'), ('GGAGGCG', 'GAGGCGC'), ('AAACACT', 'AACACTC'), ('GCTATCG', 'CTATCGC'), ('GGGTTTT', 'GGTTTTG'), ('TGCCCGC', 'GCCCGCC'), ('TCATGGT', 'CATGGTA'), ('TATCGCT', 'ATCGCTG'), ('TGGTATC', 'GGTATCG'), ('GACATAT', 'ACATATC'), ('ATAACAA', 'TAACAAC'), ('GTATCGA', 'TATCGAC'), ('AGATTTG', 'GATTTGT'), ('CCGACTG', 'CGACTGT'), ('CGCTGCC', 'GCTGCCC'), ('ACCGACT', 'CCGACTG'), ('GCAACCT', 'CAACCTA'), ('CGCAACC', 'GCAACCT'), ('ATGAGCA', 'TGAGCAA'), ('GATAACA', 'ATAACAA'), ('TGTACTA', 'GTACTAC'), ('CATCCGC', 'ATCCGCT'), ('TGCGCAG', 'GCGCAGG'), ('TACAGGA', 'ACAGGAG'), ('CTTATGT', 'TTATGTA'), ('TACTACA', 'ACTACAT'), ('ATCGCTA', 'TCGCTAC'), ('CTACTGG', 'TACTGGT'), ('TACAAGA', 'ACAAGAA'), ('GTTTCTT', 'TTTCTTC'), ('GCCCTTC', 'CCCTTCG'), ('AGCAAAA', 'GCAAAAA'), ('TATGTAC', 'ATGTACT'), ('ATCGCAA', 'TCGCAAA'), ('CAAACAC', 'AAACACT'), ('CCTTCGA', 'CTTCGAT'), ('GGTTTTG', 'GTTTTGT'), ('GAATTAC', 'AATTACA'), ('TATCGCA', 'ATCGCAA'), ('CTACATG', 'TACATGT'), ('TATCGCT', 'ATCGCTA'), ('CGCCAAA', 'GCCAAAT'), ('TCGCTGT', 'CGCTGTC'), ('ATGTACT', 'TGTACTA'), ('ACAAGAA', 'CAAGAAT'), ('CTATCGC', 'TATCGCA'), ('GTACTAC', 'TACTACA'), ('GTGCACA', 'TGCACAT'), ('TGTCATG', 'GTCATGG'), ('GAGAGAT', 'AGAGATT'), ('CTTTCAT', 'TTTCATG'), ('ACTACAT', 'CTACATG'), ('CGCTATC', 'GCTATCG'), ('TCGTGCC', 'CGTGCCC'), ('CAGGAGC', 'AGGAGCC'), ('GTGCCCG', 'TGCCCGC'), ('ACATCCG', 'CATCCGC'), ('TTCGATG', 'TCGATGC'), ('GCTATCG', 'CTATCGC'), ('ATCGCTG', 'TCGCTGC'), ('GCAATGC', 'CAATGCG'), ('AGCCAAA', 'GCCAAAC'), ('CATGTTG', 'ATGTTGT'), ('GCTACTG', 'CTACTGG'), ('TCGAGAG', 'CGAGAGA'), ('AAGAGAG', 'AGAGAGA'), ('TCATGAG', 'CATGAGC'), ('GTGTTAG', 'TGTTAGC'), ('CAATGTC', 'AATGTCG'), ('GAGATTT', 'AGATTTG'), ('CATGGTA', 'ATGGTAT'), ('GAGAAGG', 'AGAAGGG'), ('AATGTCG', 'ATGTCGA'), ('GGTGCCG', 'GTGCCGC'), ('CTGTCGG', 'TGTCGGA'), ('TAGCAGT', 'AGCAGTT'), ('CAACTTA', 'AACTTAT'), ('ACTGGTG', 'CTGGTGC'), ('CCGGAGG', 'CGGAGGC'), ('CACTCGC', 'ACTCGCT'), ('CTCTTTC', 'TCTTTCA'), ('TTCATGC', 'TCATGCA'), ('ACATATC', 'CATATCG'), ('GCGCAGG', 'CGCAGGA'), ('TCTCGTG', 'CTCGTGC'), ('TTCTTCA', 'TCTTCAT'), ('AAGAATT', 'AGAATTA'), ('ATGTTGT', 'TGTTGTT'), ('GTTTCTC', 'TTTCTCG'), ('CAGTTTC', 'AGTTTCT'), ('ACAGGAG', 'CAGGAGC'), ('TATCGCA', 'ATCGCAA'), ('GGTATCG', 'GTATCGA'), ('GCCAAAT', 'CCAAATA'), ('GAGAGAA', 'AGAGAAG'), ('TGTTAGC', 'GTTAGCA'), ('TGCATCT', 'GCATCTC'), ('GGAGCCA', 'GAGCCAA'), ('GAAGGGG', 'AAGGGGT'), ('TTTGTGC', 'TTGTGCT'), ('CGCTGTC', 'GCTGTCA'), ('GGACTCT', 'GACTCTT'), ('TTTGTGT', 'TTGTGTT'), ('CTTCGAT', 'TTCGATG'), ('TGCCGCC', 'GCCGCCC'), ('CCTAAGA', 'CTAAGAG'), ('ATGTCGA', 'TGTCGAG'), ('GTGCCGC', 'TGCCGCC'), ('CGGAGGC', 'GGAGGCG'), ('GACTCTT', 'ACTCTTT'), ('AACAACT', 'ACAACTT'), ('AAAAAAG', 'AAAAAGT'), ('TATGGTG', 'ATGGTGC'), ('GCCGCCC', 'CCGCCCT'), ('GCCCGGA', 'CCCGGAG'), ('AACCGAC', 'ACCGACT'), ('TACTGGT', 'ACTGGTG'), ('ACAACTT', 'CAACTTA'), ('CAATGCG', 'AATGCGC'), ('GGCGCTA', 'GCGCTAT'), ('GACTGTC', 'ACTGTCG'), ('ATCTCTT', 'TCTCTTT'), ('GCCAAAC', 'CCAAACA'), ('AGCAATG', 'GCAATGC'), ('CAACCTA', 'AACCTAA'), ('TGCACAT', 'GCACATC'), ('ATCCGCT', 'TCCGCTA'), ('AAGTGGG', 'AGTGGGA'), ('AGAGAAG', 'GAGAAGG'), ('CCCTTCG', 'CCTTCGA'), ('GTTTTGT', 'TTTTGTG'), ('GCAGTTT', 'CAGTTTC'), ('AATAGCA', 'ATAGCAA'), ('TCGCAAA', 'CGCAAAC'), ('CGCCAAT', 'GCCAATG'), ('CATGAGC', 'ATGAGCA'), ('GCATCTC', 'CATCTCT'), ('CTGTCAT', 'TGTCATG'), ('GGATAAC', 'GATAACA'), ('CGATGCA', 'GATGCAA'), ('GCCAATG', 'CCAATGT'), ('GAGCCAA', 'AGCCAAA'), ('AGTTTCT', 'GTTTCTT'), ('CGCTACT', 'GCTACTG'), ('TGCTATC', 'GCTATCG'), ('TACATGT', 'ACATGTT'), ('AGAAGGG', 'GAAGGGG'), ('GCTGTCA', 'CTGTCAT'), ('CTCGCTG', 'TCGCTGT'), ('CCAATGT', 'CAATGTC'), ('CAAATAG', 'AAATAGC'), ('ACCTAAG', 'CCTAAGA'), ('GCAATGT', 'CAATGTT'), ('AAAAAAA', 'AAAAAAG'), ('ATTACAG', 'TTACAGG'), ('TCTCTTT', 'CTCTTTA'), ('CAGGATA', 'AGGATAA'), ('TGAGCAA', 'GAGCAAA'), ('CGTGCCC', 'GTGCCCG'), ('ACATGTT', 'CATGTTG'), ('AGCAGTT', 'GCAGTTT'), ('AGGAGCC', 'GGAGCCA'), ('ATGCATC', 'TGCATCT'), ('AAACCGA', 'AACCGAC'), ('AATGCGC', 'ATGCGCA'), ('ACTGTCG', 'CTGTCGG'), ('AGAATTA', 'GAATTAC'), ('ATATCGC', 'TATCGCT'), ('GCTATCG', 'CTATCGC'), ('CCGCCAA', 'CGCCAAT'), ('CCCGCCA', 'CCGCCAA'), ('GAGTATG', 'AGTATGG'), ('AGGATAA', 'GGATAAC'), ('AACTTAT', 'ACTTATG'), ('TTATGTA', 'TATGTAC'), ('CATGCAT', 'ATGCATC'), ('CACATCC', 'ACATCCG'), ('CATCTCT', 'ATCTCTT'), ('TTTTGTG', 'TTTGTGT'), ('TTTCTCG', 'TTCTCGT'), ('CAAAAAA', 'AAAAAAA'), ('CTATCGC', 'TATCGCT'), ('CATATCG', 'ATATCGC'), ('TTAGCAG', 'TAGCAGT'), ('TGGTGCA', 'GGTGCAC'), ('ATCGACA', 'TCGACAT'), ('CTATCGC', 'TATCGCA'), ('AACCTAA', 'ACCTAAG'), ('TTTACAA', 'TTACAAG'), ('TGTCGAG', 'GTCGAGA'), ('ATGCGCA', 'TGCGCAG'), ('TCCGCTA', 'CCGCTAT'), ('TGTTGTT', 'GTTGTTT'), ('TGTGTTA', 'GTGTTAG'), ('CTCGTGC', 'TCGTGCC'), ('TGCAATG', 'GCAATGT'), ('GGTGCAC', 'GTGCACA'), ('CTTCATG', 'TTCATGC'), ('CTCTTTA', 'TCTTTAC'), ('ATTTGTG', 'TTTGTGC'), ('TCGACAT', 'CGACATA'), ('CGCCCTT', 'GCCCTTC'), ('AACACTC', 'ACACTCG'), ('TCGCAAC', 'CGCAACC'), ('GTATGGT', 'TATGGTG'), ('AAAAGTG', 'AAAGTGG'), ('GTGGGAG', 'TGGGAGT'), ('ACTCTTT', 'CTCTTTC'), ('ACGCCAA', 'CGCCAAA'), ('ACACTCG', 'CACTCGC'), ('AGTATGG', 'GTATGGT'), ('CTGGTGC', 'TGGTGCC'), ('GGGGTTT', 'GGGTTTT'), ('AAAAAGT', 'AAAAGTG'), ('GTCGAGA', 'TCGAGAG'), ('ACTCGCT', 'CTCGCTG'), ('AAAGTGG', 'AAGTGGG'), ('CCGCTAT', 'CGCTATC'), ('TTCTCGT', 'TCTCGTG'), ('ATGGTAT', 'TGGTATC'), ('TCGCTAC', 'CGCTACT'), ('GAGCAAA', 'AGCAAAA'), ('TCTTCAT', 'CTTCATG'), ('TGTGCTA', 'GTGCTAT'), ('AATTACA', 'ATTACAG'), ('TCGATGC', 'CGATGCA'), ('ATGCAAT', 'TGCAATG'), ('TTTCTTC', 'TTCTTCA'), ('TTGTGTT', 'TGTGTTA'), ('GCAAAAA', 'CAAAAAA'), ('AGAGAGA', 'GAGAGAA'), ('TCGGACT', 'CGGACTC'), ('AGAGATT', 'GAGATTT'), ('GCCCGCC', 'CCCGCCA'), ('GTCATGG', 'TCATGGT'), ('AAGGGGT', 'AGGGGTT'), ('GCAAACC', 'CAAACCG'), ('CCAAATA', 'CAAATAG')]\n"
     ]
    }
   ],
   "source": [
    "# Read reads into graph\n",
    "\n",
    "def build_graph(k_mers):\n",
    "    edges = []\n",
    "    nodes = set()\n",
    "    # Your code here\n",
    "    graph = {}\n",
    "    for k_mer in k_mers:\n",
    "        edges.append((k_mer[:7],k_mer[1:]))\n",
    "        nodes.add(k_mer[:7])\n",
    "        nodes.add(k_mer[1:])\n",
    "    return nodes, edges\n",
    "\n",
    "nodes, edges = build_graph(sequence_reads)\n",
    "print(edges)"
   ]
  },
  {
   "cell_type": "code",
   "execution_count": null,
   "id": "floral-payday",
   "metadata": {
    "pycharm": {
     "name": "#%%\n"
    }
   },
   "outputs": [],
   "source": [
    "# Implement assembly algorithm"
   ]
  },
  {
   "cell_type": "code",
   "execution_count": null,
   "id": "vietnamese-pound",
   "metadata": {
    "pycharm": {
     "name": "#%%\n"
    }
   },
   "outputs": [],
   "source": [
    "# Print assembled sequence"
   ]
  },
  {
   "cell_type": "code",
   "execution_count": 1,
   "id": "compact-kitty",
   "metadata": {
    "pycharm": {
     "name": "#%%\n"
    }
   },
   "outputs": [],
   "source": [
    "# Needed to properly visualize graphs\n",
    "%load_ext gvmagic"
   ]
  },
  {
   "cell_type": "code",
   "execution_count": 2,
   "id": "dental-birmingham",
   "metadata": {
    "pycharm": {
     "name": "#%%\n"
    }
   },
   "outputs": [
    {
     "ename": "NameError",
     "evalue": "name 'utils' is not defined",
     "output_type": "error",
     "traceback": [
      "\u001B[0;31m---------------------------------------------------------------------------\u001B[0m",
      "\u001B[0;31mNameError\u001B[0m                                 Traceback (most recent call last)",
      "Input \u001B[0;32mIn [2]\u001B[0m, in \u001B[0;36m<cell line: 2>\u001B[0;34m()\u001B[0m\n\u001B[1;32m      1\u001B[0m \u001B[38;5;66;03m# Helper function to visualize de Bruijn graphs\u001B[39;00m\n\u001B[0;32m----> 2\u001B[0m \u001B[43mget_ipython\u001B[49m\u001B[43m(\u001B[49m\u001B[43m)\u001B[49m\u001B[38;5;241;43m.\u001B[39;49m\u001B[43mrun_line_magic\u001B[49m\u001B[43m(\u001B[49m\u001B[38;5;124;43m'\u001B[39;49m\u001B[38;5;124;43mdotstr\u001B[39;49m\u001B[38;5;124;43m'\u001B[39;49m\u001B[43m,\u001B[49m\u001B[43m \u001B[49m\u001B[38;5;124;43m'\u001B[39;49m\u001B[38;5;124;43mutils.viz_debruijn(nodes_bruijn, edges_bruijn)\u001B[39;49m\u001B[38;5;124;43m'\u001B[39;49m\u001B[43m)\u001B[49m\n",
      "File \u001B[0;32m/opt/homebrew/lib/python3.9/site-packages/IPython/core/interactiveshell.py:2305\u001B[0m, in \u001B[0;36mInteractiveShell.run_line_magic\u001B[0;34m(self, magic_name, line, _stack_depth)\u001B[0m\n\u001B[1;32m   2303\u001B[0m     kwargs[\u001B[38;5;124m'\u001B[39m\u001B[38;5;124mlocal_ns\u001B[39m\u001B[38;5;124m'\u001B[39m] \u001B[38;5;241m=\u001B[39m \u001B[38;5;28mself\u001B[39m\u001B[38;5;241m.\u001B[39mget_local_scope(stack_depth)\n\u001B[1;32m   2304\u001B[0m \u001B[38;5;28;01mwith\u001B[39;00m \u001B[38;5;28mself\u001B[39m\u001B[38;5;241m.\u001B[39mbuiltin_trap:\n\u001B[0;32m-> 2305\u001B[0m     result \u001B[38;5;241m=\u001B[39m \u001B[43mfn\u001B[49m\u001B[43m(\u001B[49m\u001B[38;5;241;43m*\u001B[39;49m\u001B[43margs\u001B[49m\u001B[43m,\u001B[49m\u001B[43m \u001B[49m\u001B[38;5;241;43m*\u001B[39;49m\u001B[38;5;241;43m*\u001B[39;49m\u001B[43mkwargs\u001B[49m\u001B[43m)\u001B[49m\n\u001B[1;32m   2306\u001B[0m \u001B[38;5;28;01mreturn\u001B[39;00m result\n",
      "File \u001B[0;32m~/Developer/uva/Bio/Project-1-2022F-Ben/gvmagic.py:52\u001B[0m, in \u001B[0;36mGraphvizMagics.dotstr\u001B[0;34m(self, line)\u001B[0m\n\u001B[1;32m     50\u001B[0m \u001B[38;5;129m@line_magic\u001B[39m\n\u001B[1;32m     51\u001B[0m \u001B[38;5;28;01mdef\u001B[39;00m \u001B[38;5;21mdotstr\u001B[39m(\u001B[38;5;28mself\u001B[39m, line):\n\u001B[0;32m---> 52\u001B[0m     \u001B[38;5;28;43mself\u001B[39;49m\u001B[38;5;241;43m.\u001B[39;49m\u001B[43m_from_str\u001B[49m\u001B[43m(\u001B[49m\u001B[43mline\u001B[49m\u001B[43m,\u001B[49m\u001B[43m \u001B[49m\u001B[38;5;124;43m'\u001B[39;49m\u001B[38;5;124;43mdot\u001B[39;49m\u001B[38;5;124;43m'\u001B[39;49m\u001B[43m)\u001B[49m\n",
      "File \u001B[0;32m~/Developer/uva/Bio/Project-1-2022F-Ben/gvmagic.py:152\u001B[0m, in \u001B[0;36mGraphvizMagics._from_str\u001B[0;34m(self, line, layout_engine)\u001B[0m\n\u001B[1;32m    151\u001B[0m \u001B[38;5;28;01mdef\u001B[39;00m \u001B[38;5;21m_from_str\u001B[39m(\u001B[38;5;28mself\u001B[39m, line, layout_engine):\n\u001B[0;32m--> 152\u001B[0m     s \u001B[38;5;241m=\u001B[39m \u001B[38;5;28;43mself\u001B[39;49m\u001B[38;5;241;43m.\u001B[39;49m\u001B[43mshell\u001B[49m\u001B[38;5;241;43m.\u001B[39;49m\u001B[43mev\u001B[49m\u001B[43m(\u001B[49m\u001B[43mline\u001B[49m\u001B[43m)\u001B[49m\n\u001B[1;32m    153\u001B[0m     data \u001B[38;5;241m=\u001B[39m run_graphviz(s, layout_engine)\n\u001B[1;32m    154\u001B[0m     \u001B[38;5;28;01mif\u001B[39;00m data:\n",
      "File \u001B[0;32m/opt/homebrew/lib/python3.9/site-packages/IPython/core/interactiveshell.py:2692\u001B[0m, in \u001B[0;36mInteractiveShell.ev\u001B[0;34m(self, expr)\u001B[0m\n\u001B[1;32m   2687\u001B[0m \u001B[38;5;124;03m\"\"\"Evaluate python expression expr in user namespace.\u001B[39;00m\n\u001B[1;32m   2688\u001B[0m \n\u001B[1;32m   2689\u001B[0m \u001B[38;5;124;03mReturns the result of evaluation\u001B[39;00m\n\u001B[1;32m   2690\u001B[0m \u001B[38;5;124;03m\"\"\"\u001B[39;00m\n\u001B[1;32m   2691\u001B[0m \u001B[38;5;28;01mwith\u001B[39;00m \u001B[38;5;28mself\u001B[39m\u001B[38;5;241m.\u001B[39mbuiltin_trap:\n\u001B[0;32m-> 2692\u001B[0m     \u001B[38;5;28;01mreturn\u001B[39;00m \u001B[38;5;28;43meval\u001B[39;49m\u001B[43m(\u001B[49m\u001B[43mexpr\u001B[49m\u001B[43m,\u001B[49m\u001B[43m \u001B[49m\u001B[38;5;28;43mself\u001B[39;49m\u001B[38;5;241;43m.\u001B[39;49m\u001B[43muser_global_ns\u001B[49m\u001B[43m,\u001B[49m\u001B[43m \u001B[49m\u001B[38;5;28;43mself\u001B[39;49m\u001B[38;5;241;43m.\u001B[39;49m\u001B[43muser_ns\u001B[49m\u001B[43m)\u001B[49m\n",
      "File \u001B[0;32m<string>:1\u001B[0m, in \u001B[0;36m<module>\u001B[0;34m\u001B[0m\n",
      "\u001B[0;31mNameError\u001B[0m: name 'utils' is not defined"
     ]
    }
   ],
   "source": [
    "# Helper function to visualize de Bruijn graphs\n",
    "%dotstr utils.viz_debruijn(nodes_bruijn, edges_bruijn)"
   ]
  },
  {
   "cell_type": "code",
   "execution_count": null,
   "id": "blank-going",
   "metadata": {
    "pycharm": {
     "name": "#%%\n"
    }
   },
   "outputs": [],
   "source": [
    "# Main assembly algorithm\n",
    "\n",
    "def assemble_sequence(nodes, edges):\n",
    "    assembled_sequence = \"\"\n",
    "    # Your code here\n",
    "    return assembled_sequence"
   ]
  },
  {
   "cell_type": "code",
   "execution_count": null,
   "id": "expired-runner",
   "metadata": {
    "pycharm": {
     "name": "#%%\n"
    }
   },
   "outputs": [],
   "source": [
    "# Output assembled sequence\n",
    "\n",
    "assmebled_seq = assemble_sequence(nodes, edges)"
   ]
  },
  {
   "cell_type": "markdown",
   "id": "juvenile-questionnaire",
   "metadata": {
    "pycharm": {
     "name": "#%% md\n"
    }
   },
   "source": [
    "## Question 2 - Sequencing SARS-CoV-2 virus"
   ]
  },
  {
   "cell_type": "markdown",
   "id": "seeing-biography",
   "metadata": {
    "pycharm": {
     "name": "#%% md\n"
    }
   },
   "source": [
    "Let's move on from TeleTubbies to real-world organisms. Let's start small- with a variant of the SARS-CoV-2 virus. You're given reads from <i>actual</i> genome sequencing runs in the SARS-CoV2.fastq file provided.\n",
    "\n",
    "Repeat Question 1.3 on this data. You can re-use your implementation and simply run it on the new data. Print out your reconstructed sequence to a file \"output.txt\". For this part, we will still assume that all the reads are error-free. Set $k=25$."
   ]
  },
  {
   "cell_type": "code",
   "execution_count": null,
   "id": "legitimate-suspension",
   "metadata": {
    "pycharm": {
     "name": "#%%\n"
    }
   },
   "outputs": [],
   "source": [
    "# Read sequence reads\n",
    "sequence_reads_covid, qualities_covid = utils.read_fastq('SARS-CoV2.fastq')"
   ]
  },
  {
   "cell_type": "code",
   "execution_count": null,
   "id": "formal-newspaper",
   "metadata": {
    "pycharm": {
     "name": "#%%\n"
    }
   },
   "outputs": [],
   "source": [
    "# Read reads into graph\n",
    "nodes_covid, edges_covid = build_graph(sequence_reads_covid)"
   ]
  },
  {
   "cell_type": "code",
   "execution_count": null,
   "id": "miniature-advocate",
   "metadata": {
    "pycharm": {
     "name": "#%%\n"
    }
   },
   "outputs": [],
   "source": [
    "# Call main assembly algorithm\n",
    "assmebled_covid_seq = assemble_sequence(nodes_covid, edges_covid)"
   ]
  },
  {
   "cell_type": "code",
   "execution_count": null,
   "id": "yellow-stretch",
   "metadata": {
    "pycharm": {
     "name": "#%%\n"
    }
   },
   "outputs": [],
   "source": [
    "# Write assembled sequence to file\n",
    "\n",
    "assmebled_seq = \"\" # Use your assembled genome\n",
    "with open(\"covid_overlap.txt\", \"w\") as f:\n",
    "    f.write(assmebled_seq)"
   ]
  },
  {
   "cell_type": "markdown",
   "id": "productive-month",
   "metadata": {
    "pycharm": {
     "name": "#%% md\n"
    }
   },
   "source": [
    "# Question 3- Error-Aware Assembly (Extra Credit)"
   ]
  },
  {
   "cell_type": "markdown",
   "id": "positive-absorption",
   "metadata": {
    "pycharm": {
     "name": "#%% md\n"
    }
   },
   "source": [
    "In the parts above, we assumed error-free reads while assembling $k$-mers. As much as we'd like that, actual reads can (and do) have errors, captured by their Phred scores. For this question, you're given raw, actual reads from sequencing runs (download reads here: https://sra-pub-sars-cov2.s3.amazonaws.com/sra-src/SRR11528307/ABS2-LN-R1_cleaned_paired.fastq.gz).  Given these reads and their Phred33 scores, can you assemble the genome?\n",
    "\n",
    "<b>Print out your assembled sequence, along with a brief explanation of how your algorithm works</b>\n",
    "\n",
    "This is an open-ended question. You are free to use any approach to deal with the issue. Make sure you provide your code, along with any assumptions you may have, in the cells below."
   ]
  },
  {
   "cell_type": "code",
   "execution_count": null,
   "id": "vertical-manual",
   "metadata": {
    "pycharm": {
     "name": "#%%\n"
    }
   },
   "outputs": [],
   "source": []
  },
  {
   "cell_type": "code",
   "execution_count": null,
   "id": "round-delay",
   "metadata": {
    "pycharm": {
     "name": "#%%\n"
    }
   },
   "outputs": [],
   "source": []
  }
 ],
 "metadata": {
  "kernelspec": {
   "display_name": "Python 3 (ipykernel)",
   "language": "python",
   "name": "python3"
  },
  "language_info": {
   "codemirror_mode": {
    "name": "ipython",
    "version": 3
   },
   "file_extension": ".py",
   "mimetype": "text/x-python",
   "name": "python",
   "nbconvert_exporter": "python",
   "pygments_lexer": "ipython3",
   "version": "3.9.13"
  }
 },
 "nbformat": 4,
 "nbformat_minor": 5
}